{
 "cells": [
  {
   "cell_type": "code",
   "execution_count": 67,
   "id": "32eee481-b501-4a6b-8808-76641dd338a5",
   "metadata": {},
   "outputs": [],
   "source": [
    "from pizzaro.gateway import send_command\n",
    "import socket\n",
    "import logging\n",
    "import asyncio\n",
    "import threading\n",
    "import random\n",
    "import time\n",
    "\n",
    "s = socket.socket(socket.AF_INET, socket.SOCK_STREAM)\n",
    "s.connect((\"127.0.0.1\", 9999))"
   ]
  },
  {
   "cell_type": "code",
   "execution_count": 68,
   "id": "ebf2b112-0030-4779-b674-91a288294554",
   "metadata": {},
   "outputs": [
    {
     "name": "stdout",
     "output_type": "stream",
     "text": [
      "REQ:  b'{\"command\": \"hpd home\"}'\n",
      "RESP:  b'{\"Hpd\":\"HpdAck\"}'\n",
      "REQ:  b'{\"command\": \"hpd wait_idle\"}'\n",
      "RESP:  b'{\"AtomiError\":\"HpdUnavailable\"}'\n",
      "REQ:  b'{\"command\": \"hpd wait_idle\"}'\n",
      "RESP:  b'{\"AtomiError\":\"HpdUnavailable\"}'\n",
      "REQ:  b'{\"command\": \"hpd wait_idle\"}'\n",
      "RESP:  b'{\"Hpd\":\"HpdAck\"}'\n",
      "b'{\"Hpd\":\"HpdAck\"}'\n"
     ]
    }
   ],
   "source": [
    "send_command('hpd home', s)\n",
    "await wait_for_linear_bull_available(s)\n"
   ]
  },
  {
   "cell_type": "code",
   "execution_count": 80,
   "id": "0b9e47f9-e415-4461-b12a-b72475540756",
   "metadata": {},
   "outputs": [
    {
     "name": "stdout",
     "output_type": "stream",
     "text": [
      "REQ:  b'{\"command\": \"hpd move_to 57500\"}'\n",
      "RESP:  b'{\"Hpd\":\"HpdAck\"}'\n",
      "REQ:  b'{\"command\": \"hpd wait_idle\"}'\n",
      "RESP:  b'{\"AtomiError\":\"HpdUnavailable\"}'\n",
      "REQ:  b'{\"command\": \"hpd wait_idle\"}'\n",
      "RESP:  b'{\"AtomiError\":\"HpdUnavailable\"}'\n",
      "REQ:  b'{\"command\": \"hpd wait_idle\"}'\n",
      "RESP:  b'{\"AtomiError\":\"HpdUnavailable\"}'\n",
      "REQ:  b'{\"command\": \"hpd wait_idle\"}'\n",
      "RESP:  b'{\"AtomiError\":\"HpdUnavailable\"}'\n",
      "REQ:  b'{\"command\": \"hpd wait_idle\"}'\n",
      "RESP:  b'{\"AtomiError\":\"HpdUnavailable\"}'\n",
      "REQ:  b'{\"command\": \"hpd wait_idle\"}'\n",
      "RESP:  b'{\"AtomiError\":\"HpdUnavailable\"}'\n",
      "REQ:  b'{\"command\": \"hpd wait_idle\"}'\n",
      "RESP:  b'{\"AtomiError\":\"HpdUnavailable\"}'\n",
      "REQ:  b'{\"command\": \"hpd wait_idle\"}'\n",
      "RESP:  b'{\"AtomiError\":\"HpdUnavailable\"}'\n",
      "REQ:  b'{\"command\": \"hpd wait_idle\"}'\n",
      "RESP:  b'{\"Hpd\":\"HpdAck\"}'\n",
      "b'{\"Hpd\":\"HpdAck\"}'\n",
      "REQ:  b'{\"command\": \"hpd move_to 50000\"}'\n",
      "RESP:  b'{\"Hpd\":\"HpdAck\"}'\n",
      "REQ:  b'{\"command\": \"hpd wait_idle\"}'\n",
      "RESP:  b'{\"AtomiError\":\"HpdUnavailable\"}'\n",
      "REQ:  b'{\"command\": \"hpd wait_idle\"}'\n",
      "RESP:  b'{\"AtomiError\":\"HpdUnavailable\"}'\n",
      "REQ:  b'{\"command\": \"hpd wait_idle\"}'\n",
      "RESP:  b'{\"AtomiError\":\"HpdUnavailable\"}'\n",
      "REQ:  b'{\"command\": \"hpd wait_idle\"}'\n",
      "RESP:  b'{\"Hpd\":\"HpdAck\"}'\n",
      "b'{\"Hpd\":\"HpdAck\"}'\n"
     ]
    }
   ],
   "source": [
    "send_command(f'hpd move_to 57500', s)\n",
    "await wait_for_linear_bull_available(s)\n",
    "time.sleep(10)\n",
    "send_command(f'hpd move_to 50000', s)\n",
    "await wait_for_linear_bull_available(s)\n"
   ]
  },
  {
   "cell_type": "code",
   "execution_count": 78,
   "id": "405dc551-260e-4573-bf55-0eab8e19b069",
   "metadata": {},
   "outputs": [
    {
     "name": "stdout",
     "output_type": "stream",
     "text": [
      "REQ:  b'{\"command\": \"hpd move_to 50000\"}'\n",
      "RESP:  b'{\"Hpd\":\"HpdAck\"}'\n",
      "REQ:  b'{\"command\": \"hpd wait_idle\"}'\n",
      "RESP:  b'{\"AtomiError\":\"HpdUnavailable\"}'\n",
      "REQ:  b'{\"command\": \"hpd wait_idle\"}'\n",
      "RESP:  b'{\"Hpd\":\"HpdAck\"}'\n",
      "b'{\"Hpd\":\"HpdAck\"}'\n"
     ]
    }
   ],
   "source": [
    "send_command(f'hpd move_to 50000', s)\n",
    "await wait_for_linear_bull_available(s)\n"
   ]
  },
  {
   "cell_type": "code",
   "execution_count": 79,
   "id": "d0380810-3805-40e7-b496-ce01c58581e1",
   "metadata": {},
   "outputs": [
    {
     "name": "stdout",
     "output_type": "stream",
     "text": [
      "REQ:  b'{\"command\": \"hpd move_to 30000\"}'\n",
      "RESP:  b'{\"Hpd\":\"HpdAck\"}'\n",
      "REQ:  b'{\"command\": \"hpd wait_idle\"}'\n",
      "RESP:  b'{\"AtomiError\":\"HpdUnavailable\"}'\n",
      "REQ:  b'{\"command\": \"hpd wait_idle\"}'\n",
      "RESP:  b'{\"AtomiError\":\"HpdUnavailable\"}'\n",
      "REQ:  b'{\"command\": \"hpd wait_idle\"}'\n",
      "RESP:  b'{\"AtomiError\":\"HpdUnavailable\"}'\n",
      "REQ:  b'{\"command\": \"hpd wait_idle\"}'\n",
      "RESP:  b'{\"AtomiError\":\"HpdUnavailable\"}'\n",
      "REQ:  b'{\"command\": \"hpd wait_idle\"}'\n",
      "RESP:  b'{\"AtomiError\":\"HpdUnavailable\"}'\n",
      "REQ:  b'{\"command\": \"hpd wait_idle\"}'\n",
      "RESP:  b'{\"AtomiError\":\"HpdUnavailable\"}'\n",
      "REQ:  b'{\"command\": \"hpd wait_idle\"}'\n",
      "RESP:  b'{\"AtomiError\":\"HpdUnavailable\"}'\n",
      "REQ:  b'{\"command\": \"hpd wait_idle\"}'\n",
      "RESP:  b'{\"Hpd\":\"HpdAck\"}'\n",
      "b'{\"Hpd\":\"HpdAck\"}'\n"
     ]
    }
   ],
   "source": [
    "send_command(f'hpd move_to 30000', s)\n",
    "await wait_for_linear_bull_available(s)\n"
   ]
  },
  {
   "cell_type": "code",
   "execution_count": null,
   "id": "a5e95eef-cd33-4ff3-a7b0-faf875e46024",
   "metadata": {},
   "outputs": [],
   "source": [
    "send_command(f'asd move_rel 48000 8000', s)\n",
    "await wait_for_asd_available(s)\n",
    "send_command(f'hpd move_to 40000', s)\n",
    "await wait_for_linear_bull_available(s)\n",
    "send_command(f'asd move_rel -48000 8000', s)\n",
    "await wait_for_asd_available(s)"
   ]
  },
  {
   "cell_type": "code",
   "execution_count": 5,
   "id": "4c911885-c582-4eaa-9d2b-a721cd48645e",
   "metadata": {},
   "outputs": [],
   "source": [
    "async def wait_for_linear_bull_available(s):\n",
    "    while True:\n",
    "        resp = send_command('hpd wait_idle', s)\n",
    "        if \"HpdUnavailable\" not in f'{resp}':\n",
    "            print(resp)\n",
    "            break\n",
    "        await asyncio.sleep(1)\n",
    "\n",
    "async def wait_for_asd_available(s):\n",
    "    while True:\n",
    "        resp = send_command('asd check_status', s)\n",
    "        if \"AsdUnavailable\" not in f'{resp}':\n",
    "            print(resp)\n",
    "            break\n",
    "        await asyncio.sleep(1)\n"
   ]
  },
  {
   "cell_type": "code",
   "execution_count": null,
   "id": "020eeccd-c380-4f25-89eb-eeda822166a8",
   "metadata": {},
   "outputs": [],
   "source": []
  }
 ],
 "metadata": {
  "kernelspec": {
   "display_name": "Python 3 (ipykernel)",
   "language": "python",
   "name": "python3"
  },
  "language_info": {
   "codemirror_mode": {
    "name": "ipython",
    "version": 3
   },
   "file_extension": ".py",
   "mimetype": "text/x-python",
   "name": "python",
   "nbconvert_exporter": "python",
   "pygments_lexer": "ipython3",
   "version": "3.10.8"
  }
 },
 "nbformat": 4,
 "nbformat_minor": 5
}
