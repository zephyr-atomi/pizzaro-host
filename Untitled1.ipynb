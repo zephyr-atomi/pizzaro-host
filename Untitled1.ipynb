{
 "cells": [
  {
   "cell_type": "code",
   "execution_count": 9,
   "id": "1b88ebbb-20f3-4dab-8481-0cc5306ed642",
   "metadata": {},
   "outputs": [
    {
     "name": "stdout",
     "output_type": "stream",
     "text": [
      "100 50 70\n",
      "160 170 220\n",
      "220 290 310\n",
      "280 410 360\n",
      "340 530 360\n",
      "400 650 310\n",
      "460 770 210\n"
     ]
    }
   ],
   "source": [
    "PRODUCT = (540 - 100) * 50 / 75\n",
    "for p in range(100, 510, 60):\n",
    "    r = 540 - p\n",
    "    a = (p - 100) * 2 + 50\n",
    "    v_b = round(a * r / PRODUCT) // 10 * 10\n",
    "    print(p, a, v_b)"
   ]
  },
  {
   "cell_type": "code",
   "execution_count": 4,
   "id": "21daccbe-b5f7-4546-841a-62a804aa3679",
   "metadata": {},
   "outputs": [],
   "source": [
    "a = 10\n",
    "x = -300 if a == 1 else -400"
   ]
  },
  {
   "cell_type": "code",
   "execution_count": 5,
   "id": "3194a196-bcd1-4abe-8d6c-5937b4b23e86",
   "metadata": {},
   "outputs": [],
   "source": [
    "(spd1, spd2) = (-100, -200) if a == 1 else (100, 200)"
   ]
  },
  {
   "cell_type": "code",
   "execution_count": 6,
   "id": "9031aec8-8f75-44ff-a3c5-4dc9446927dc",
   "metadata": {},
   "outputs": [
    {
     "name": "stdout",
     "output_type": "stream",
     "text": [
      "100 200\n"
     ]
    }
   ],
   "source": [
    "print(spd1, spd2)"
   ]
  },
  {
   "cell_type": "code",
   "execution_count": null,
   "id": "747070fb-1582-4794-93bf-2bdc2c877efa",
   "metadata": {},
   "outputs": [],
   "source": []
  }
 ],
 "metadata": {
  "kernelspec": {
   "display_name": "Python 3 (ipykernel)",
   "language": "python",
   "name": "python3"
  },
  "language_info": {
   "codemirror_mode": {
    "name": "ipython",
    "version": 3
   },
   "file_extension": ".py",
   "mimetype": "text/x-python",
   "name": "python",
   "nbconvert_exporter": "python",
   "pygments_lexer": "ipython3",
   "version": "3.10.8"
  }
 },
 "nbformat": 4,
 "nbformat_minor": 5
}
