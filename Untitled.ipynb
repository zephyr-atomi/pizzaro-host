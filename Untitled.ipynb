{
 "cells": [
  {
   "cell_type": "code",
   "execution_count": 1,
   "id": "00563bcb-fb49-450f-bc81-d6f2f32b0d06",
   "metadata": {},
   "source": [
    "from pizzaro.hello_world import hello_world, good_night, hello_goodbye\n"
   ],
   "outputs": []
  },
  {
   "cell_type": "code",
   "execution_count": 3,
   "id": "ade7e69f-2c59-4431-9190-a7d56cb8ca6f",
   "metadata": {},
   "source": [
    "hello_goodbye(\n",
    ")"
   ],
   "outputs": []
  },
  {
   "cell_type": "code",
   "execution_count": 8,
   "id": "70847ef0-84f2-4383-8e3e-271adaa8905b",
   "metadata": {},
   "source": [
    "from pizzaro.gateway import send_command"
   ],
   "outputs": []
  },
  {
   "cell_type": "code",
   "execution_count": 9,
   "id": "6973f647-7b1d-4632-b068-3604000c0960",
   "metadata": {},
   "source": [
    "send_command()"
   ],
   "outputs": []
  },
  {
   "cell_type": "code",
   "execution_count": 7,
   "id": "40b82fcb-7df0-4026-8566-ae9d95e19abc",
   "metadata": {},
   "source": [
    "print(pizzaro.gateway.__file__)"
   ],
   "outputs": []
  },
  {
   "cell_type": "code",
   "execution_count": null,
   "id": "b4eef2da-46a2-408e-8a89-e82fbf6bb648",
   "metadata": {},
   "source": [],
   "outputs": []
  },
  {
   "cell_type": "code",
   "execution_count": null,
   "id": "e19627fe-ab7a-4975-b814-45cb21520e1c",
   "metadata": {},
   "source": [],
   "outputs": []
  }
 ],
 "metadata": {
  "kernelspec": {
   "display_name": "Python 3 (ipykernel)",
   "language": "python",
   "name": "python3"
  },
  "language_info": {
   "codemirror_mode": {
    "name": "ipython",
    "version": 3
   },
   "file_extension": ".py",
   "mimetype": "text/x-python",
   "name": "python",
   "nbconvert_exporter": "python",
   "pygments_lexer": "ipython3",
   "version": "3.12.1"
  }
 },
 "nbformat": 4,
 "nbformat_minor": 5
}
