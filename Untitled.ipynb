{
 "cells": [
  {
   "cell_type": "code",
   "execution_count": 1,
   "id": "00563bcb-fb49-450f-bc81-d6f2f32b0d06",
   "metadata": {},
   "outputs": [],
   "source": [
    "from pizzaro.hello_world import hello_world, good_night, hello_goodbye\n"
   ]
  },
  {
   "cell_type": "code",
   "execution_count": 2,
   "id": "ade7e69f-2c59-4431-9190-a7d56cb8ca6f",
   "metadata": {},
   "outputs": [
    {
     "name": "stdout",
     "output_type": "stream",
     "text": [
      "hello world\n",
      "good night\n"
     ]
    }
   ],
   "source": [
    "hello_goodbye(\n",
    ")"
   ]
  },
  {
   "cell_type": "code",
   "execution_count": 3,
   "id": "70847ef0-84f2-4383-8e3e-271adaa8905b",
   "metadata": {},
   "outputs": [],
   "source": [
    "from pizzaro.gateway import send_command"
   ]
  },
  {
   "cell_type": "code",
   "execution_count": 4,
   "id": "e7d06c77-f1ef-40b0-872a-4fe5d931ef15",
   "metadata": {},
   "outputs": [],
   "source": [
    "import socket\n",
    "import logging\n",
    "import asyncio"
   ]
  },
  {
   "cell_type": "code",
   "execution_count": 6,
   "id": "cfd95ec2-1a35-460d-baa7-2d57e25293ac",
   "metadata": {},
   "outputs": [],
   "source": [
    "s = socket.socket(socket.AF_INET, socket.SOCK_STREAM)\n",
    "s.connect((\"127.0.0.1\", 9999))"
   ]
  },
  {
   "cell_type": "code",
   "execution_count": 7,
   "id": "6973f647-7b1d-4632-b068-3604000c0960",
   "metadata": {},
   "outputs": [
    {
     "name": "stdout",
     "output_type": "stream",
     "text": [
      "REQ:  b'{\"command\": \"mmd ping\"}'\n",
      "RESP:  b'{\"Mmd\":\"MmdPong\"}'\n"
     ]
    },
    {
     "data": {
      "text/plain": [
       "{'Mmd': 'MmdPong'}"
      ]
     },
     "execution_count": 7,
     "metadata": {},
     "output_type": "execute_result"
    }
   ],
   "source": [
    "send_command(\"mmd ping\", s)"
   ]
  },
  {
   "cell_type": "code",
   "execution_count": 8,
   "id": "b4eef2da-46a2-408e-8a89-e82fbf6bb648",
   "metadata": {},
   "outputs": [
    {
     "name": "stdout",
     "output_type": "stream",
     "text": [
      "REQ:  b'{\"command\": \"mmd belt_off\"}'\n",
      "RESP:  b'{\"Mmd\":\"MmdAck\"}'\n"
     ]
    },
    {
     "data": {
      "text/plain": [
       "{'Mmd': 'MmdAck'}"
      ]
     },
     "execution_count": 8,
     "metadata": {},
     "output_type": "execute_result"
    }
   ],
   "source": [
    "send_command(\"mmd belt_off\", s)"
   ]
  },
  {
   "cell_type": "code",
   "execution_count": 18,
   "id": "fceb2caa-e7c8-48e3-9088-4d2c16c09847",
   "metadata": {},
   "outputs": [
    {
     "name": "stdout",
     "output_type": "stream",
     "text": [
      "REQ:  b'{\"command\": \"mmd pp_spd -300\"}'\n",
      "RESP:  b'{\"Mmd\":\"MmdAck\"}'\n",
      "REQ:  b'{\"command\": \"mmd move_to 120\"}'\n",
      "RESP:  b'{\"Mmd\":\"MmdAck\"}'\n",
      "REQ:  b'{\"command\": \"mmd pr_spd 112\"}'\n",
      "RESP:  b'{\"Mmd\":\"MmdAck\"}'\n"
     ]
    },
    {
     "name": "stderr",
     "output_type": "stream",
     "text": [
      "/tmp/ipykernel_1776869/1228756019.py:22: RuntimeWarning: coroutine 'wait_for_stepper_available' was never awaited\n",
      "  wait_for_stepper_available(s)\n",
      "RuntimeWarning: Enable tracemalloc to get the object allocation traceback\n"
     ]
    },
    {
     "name": "stdout",
     "output_type": "stream",
     "text": [
      "REQ:  b'{\"command\": \"mmd move_to 140\"}'\n",
      "RESP:  b'{\"AtomiError\":{\"MmdUnavailable\":\"Unavailable\"}}'\n",
      "REQ:  b'{\"command\": \"mmd pr_spd 117\"}'\n",
      "RESP:  b'{\"Mmd\":\"MmdAck\"}'\n",
      "REQ:  b'{\"command\": \"mmd move_to 160\"}'\n",
      "RESP:  b'{\"AtomiError\":{\"MmdUnavailable\":\"Unavailable\"}}'\n",
      "REQ:  b'{\"command\": \"mmd pr_spd 122\"}'\n",
      "RESP:  b'{\"Mmd\":\"MmdAck\"}'\n",
      "REQ:  b'{\"command\": \"mmd move_to 180\"}'\n",
      "RESP:  b'{\"AtomiError\":{\"MmdUnavailable\":\"Unavailable\"}}'\n",
      "REQ:  b'{\"command\": \"mmd pr_spd 128\"}'\n",
      "RESP:  b'{\"Mmd\":\"MmdAck\"}'\n",
      "REQ:  b'{\"command\": \"mmd move_to 200\"}'\n",
      "RESP:  b'{\"AtomiError\":{\"MmdUnavailable\":\"Unavailable\"}}'\n",
      "REQ:  b'{\"command\": \"mmd pr_spd 135\"}'\n",
      "RESP:  b'{\"Mmd\":\"MmdAck\"}'\n",
      "REQ:  b'{\"command\": \"mmd move_to 220\"}'\n",
      "RESP:  b'{\"AtomiError\":{\"MmdUnavailable\":\"Unavailable\"}}'\n",
      "REQ:  b'{\"command\": \"mmd pr_spd 142\"}'\n",
      "RESP:  b'{\"Mmd\":\"MmdAck\"}'\n",
      "REQ:  b'{\"command\": \"mmd move_to 240\"}'\n",
      "RESP:  b'{\"Mmd\":\"MmdAck\"}'\n",
      "REQ:  b'{\"command\": \"mmd pr_spd 150\"}'\n",
      "RESP:  b'{\"Mmd\":\"MmdAck\"}'\n",
      "REQ:  b'{\"command\": \"mmd move_to 260\"}'\n",
      "RESP:  b'{\"AtomiError\":{\"MmdUnavailable\":\"Unavailable\"}}'\n",
      "REQ:  b'{\"command\": \"mmd pr_spd 158\"}'\n",
      "RESP:  b'{\"Mmd\":\"MmdAck\"}'\n",
      "REQ:  b'{\"command\": \"mmd move_to 280\"}'\n",
      "RESP:  b'{\"Mmd\":\"MmdAck\"}'\n",
      "REQ:  b'{\"command\": \"mmd pr_spd 168\"}'\n",
      "RESP:  b'{\"Mmd\":\"MmdAck\"}'\n",
      "REQ:  b'{\"command\": \"mmd move_to 300\"}'\n",
      "RESP:  b'{\"Mmd\":\"MmdAck\"}'\n",
      "REQ:  b'{\"command\": \"mmd pr_spd 180\"}'\n",
      "RESP:  b'{\"Mmd\":\"MmdAck\"}'\n",
      "REQ:  b'{\"command\": \"mmd move_to 320\"}'\n",
      "RESP:  b'{\"Mmd\":\"MmdAck\"}'\n",
      "REQ:  b'{\"command\": \"mmd pr_spd 192\"}'\n",
      "RESP:  b'{\"Mmd\":\"MmdAck\"}'\n",
      "REQ:  b'{\"command\": \"mmd move_to 340\"}'\n",
      "RESP:  b'{\"Mmd\":\"MmdAck\"}'\n",
      "REQ:  b'{\"command\": \"mmd pr_spd 207\"}'\n",
      "RESP:  b'{\"Mmd\":\"MmdAck\"}'\n",
      "REQ:  b'{\"command\": \"mmd move_to 360\"}'\n",
      "RESP:  b'{\"Mmd\":\"MmdAck\"}'\n",
      "REQ:  b'{\"command\": \"mmd pr_spd 225\"}'\n",
      "RESP:  b'{\"Mmd\":\"MmdAck\"}'\n",
      "REQ:  b'{\"command\": \"mmd move_to 380\"}'\n",
      "RESP:  b'{\"Mmd\":\"MmdAck\"}'\n",
      "REQ:  b'{\"command\": \"mmd pr_spd 245\"}'\n",
      "RESP:  b'{\"Mmd\":\"MmdAck\"}'\n",
      "REQ:  b'{\"command\": \"mmd move_to 400\"}'\n",
      "RESP:  b'{\"Mmd\":\"MmdAck\"}'\n",
      "REQ:  b'{\"command\": \"mmd pr_spd 270\"}'\n",
      "RESP:  b'{\"Mmd\":\"MmdAck\"}'\n",
      "REQ:  b'{\"command\": \"mmd move_to 420\"}'\n",
      "RESP:  b'{\"Mmd\":\"MmdAck\"}'\n",
      "REQ:  b'{\"command\": \"mmd pr_spd 300\"}'\n",
      "RESP:  b'{\"Mmd\":\"MmdAck\"}'\n",
      "REQ:  b'{\"command\": \"mmd move_to 440\"}'\n",
      "RESP:  b'{\"Mmd\":\"MmdAck\"}'\n",
      "REQ:  b'{\"command\": \"mmd pr_spd 337\"}'\n",
      "RESP:  b'{\"Mmd\":\"MmdAck\"}'\n",
      "REQ:  b'{\"command\": \"mmd move_to 460\"}'\n",
      "RESP:  b'{\"Mmd\":\"MmdAck\"}'\n",
      "REQ:  b'{\"command\": \"mmd pr_spd 385\"}'\n",
      "RESP:  b'{\"Mmd\":\"MmdAck\"}'\n",
      "REQ:  b'{\"command\": \"mmd move_to 480\"}'\n",
      "RESP:  b'{\"Mmd\":\"MmdAck\"}'\n",
      "REQ:  b'{\"command\": \"mmd pr_spd 450\"}'\n",
      "RESP:  b'{\"Mmd\":\"MmdAck\"}'\n",
      "REQ:  b'{\"command\": \"mmd move_to 500\"}'\n",
      "RESP:  b'{\"Mmd\":\"MmdAck\"}'\n",
      "REQ:  b'{\"command\": \"mmd pr_spd 540\"}'\n",
      "RESP:  b'{\"Mmd\":\"MmdAck\"}'\n"
     ]
    }
   ],
   "source": [
    "START_POS = 120;\n",
    "END_POS = 510;\n",
    "CENTER_POS = 600;\n",
    "PR_START_SPD = 100;\n",
    "PR_END_SPD = 600;\n",
    "CONST_PRODUCT = (CENTER_POS - END_POS) * PR_END_SPD;\n",
    "STEPPED_SPD = 500;\n",
    "\n",
    "async def wait_for_stepper_available(s):\n",
    "    while True:\n",
    "        resp = send_command('mmd wait_idle', s)\n",
    "        if \"MmdUnavailable\" not in resp:\n",
    "            print(resp)\n",
    "            break\n",
    "        await asyncio.sleep(0.1)\n",
    "\n",
    "\n",
    "def internal_move_and_rotate(p, s):\n",
    "    w = CONST_PRODUCT // (600 - p)\n",
    "    send_command(f'mmd move_to {p}', s)\n",
    "    send_command(f'mmd pr_spd {w}', s)\n",
    "    wait_for_stepper_available(s)\n",
    "\n",
    "\n",
    "async def ketchup(s):\n",
    "    send_command(\"mmd pp_spd -300\", s);\n",
    "    for p in range(START_POS, END_POS + 1, 20):\n",
    "        logging.debug(f'ketchup() {p}')\n",
    "        internal_move_and_rotate(p, s)\n",
    "        await asyncio.sleep(0.7)\n",
    "\n",
    "await ketchup(s)"
   ]
  },
  {
   "cell_type": "code",
   "execution_count": 22,
   "id": "2e620f4c-2466-4f6d-91f7-49c3d1051e4a",
   "metadata": {},
   "outputs": [
    {
     "name": "stdout",
     "output_type": "stream",
     "text": [
      "REQ:  b'{\"command\": \"mmd belt_off\"}'\n",
      "RESP:  b'{\"Mmd\":\"MmdAck\"}'\n",
      "REQ:  b'{\"command\": \"mmd pp_off\"}'\n",
      "RESP:  b'{\"Mmd\":\"MmdAck\"}'\n",
      "REQ:  b'{\"command\": \"mmd pr_off\"}'\n",
      "RESP:  b'{\"Mmd\":\"MmdAck\"}'\n",
      "REQ:  b'{\"command\": \"mmd dispenser0_off\"}'\n",
      "RESP:  b'{\"Mmd\":\"MmdAck\"}'\n",
      "REQ:  b'{\"command\": \"mmd dispenser1_off\"}'\n",
      "RESP:  b'{\"Mmd\":\"MmdAck\"}'\n",
      "REQ:  b'{\"command\": \"mmd home\"}'\n",
      "RESP:  b'{\"AtomiError\":{\"MmdUnavailable\":\"Unavailable\"}}'\n"
     ]
    },
    {
     "data": {
      "text/plain": [
       "{'AtomiError': {'MmdUnavailable': 'Unavailable'}}"
      ]
     },
     "execution_count": 22,
     "metadata": {},
     "output_type": "execute_result"
    }
   ],
   "source": [
    "send_command(\"mmd belt_off\", s)\n",
    "send_command(\"mmd pp_off\", s)\n",
    "send_command(\"mmd pr_off\", s)\n",
    "send_command(\"mmd dispenser0_off\", s)\n",
    "send_command(\"mmd dispenser1_off\", s)\n",
    "send_command(\"mmd home\", s)"
   ]
  },
  {
   "cell_type": "code",
   "execution_count": 16,
   "id": "31f6fa10-628b-4531-a3e5-678015b68c40",
   "metadata": {},
   "outputs": [
    {
     "name": "stdout",
     "output_type": "stream",
     "text": [
      "REQ:  b'{\"command\": \"mmd dispenser0_off\"}'\n",
      "RESP:  b'{\"Mmd\":\"MmdAck\"}'\n",
      "REQ:  b'{\"command\": \"mmd dispenser1_off\"}'\n",
      "RESP:  b'{\"Mmd\":\"MmdAck\"}'\n",
      "REQ:  b'{\"command\": \"mmd belt_off\"}'\n",
      "RESP:  b'{\"Mmd\":\"MmdAck\"}'\n"
     ]
    },
    {
     "data": {
      "text/plain": [
       "{'Mmd': 'MmdAck'}"
      ]
     },
     "execution_count": 16,
     "metadata": {},
     "output_type": "execute_result"
    }
   ],
   "source": [
    "send_command(\"mmd dispenser0_on\", s)\n",
    "send_command(\"mmd dispenser1_on\", s)\n",
    "send_command(\"mmd belt_on\", s)\n"
   ]
  },
  {
   "cell_type": "code",
   "execution_count": 60,
   "id": "2f0f4c28-a228-44b9-a264-f16d5333fc4f",
   "metadata": {},
   "outputs": [
    {
     "name": "stdout",
     "output_type": "stream",
     "text": [
      "REQ:  b'{\"command\": \"mmd pp_spd -300\"}'\n",
      "RESP:  b'{\"Mmd\":\"MmdAck\"}'\n",
      "REQ:  b'{\"command\": \"mmd dispenser0_spd -500\"}'\n",
      "RESP:  b'{\"Mmd\":\"MmdAck\"}'\n",
      "REQ:  b'{\"command\": \"mmd dispenser1_on\"}'\n",
      "RESP:  b'{\"Mmd\":\"MmdAck\"}'\n",
      "REQ:  b'{\"command\": \"mmd belt_on\"}'\n",
      "RESP:  b'{\"Mmd\":\"MmdAck\"}'\n",
      "REQ:  b'{\"command\": \"mmd move_to 120\"}'\n",
      "RESP:  b'{\"Mmd\":\"MmdAck\"}'\n",
      "REQ:  b'{\"command\": \"mmd pr_spd 112\"}'\n",
      "RESP:  b'{\"Mmd\":\"MmdAck\"}'\n"
     ]
    },
    {
     "name": "stderr",
     "output_type": "stream",
     "text": [
      "/tmp/ipykernel_1776869/2420962794.py:26: RuntimeWarning: coroutine 'wait_for_stepper_available' was never awaited\n",
      "  wait_for_stepper_available(s)\n",
      "RuntimeWarning: Enable tracemalloc to get the object allocation traceback\n"
     ]
    },
    {
     "name": "stdout",
     "output_type": "stream",
     "text": [
      "REQ:  b'{\"command\": \"mmd move_to 140\"}'\n",
      "RESP:  b'{\"AtomiError\":{\"MmdUnavailable\":\"Unavailable\"}}'\n",
      "REQ:  b'{\"command\": \"mmd pr_spd 117\"}'\n",
      "RESP:  b'{\"Mmd\":\"MmdAck\"}'\n",
      "REQ:  b'{\"command\": \"mmd move_to 160\"}'\n",
      "RESP:  b'{\"Mmd\":\"MmdAck\"}'\n",
      "REQ:  b'{\"command\": \"mmd pr_spd 122\"}'\n",
      "RESP:  b'{\"Mmd\":\"MmdAck\"}'\n",
      "REQ:  b'{\"command\": \"mmd move_to 180\"}'\n",
      "RESP:  b'{\"Mmd\":\"MmdAck\"}'\n",
      "REQ:  b'{\"command\": \"mmd pr_spd 128\"}'\n",
      "RESP:  b'{\"Mmd\":\"MmdAck\"}'\n",
      "REQ:  b'{\"command\": \"mmd move_to 200\"}'\n",
      "RESP:  b'{\"Mmd\":\"MmdAck\"}'\n",
      "REQ:  b'{\"command\": \"mmd pr_spd 135\"}'\n",
      "RESP:  b'{\"Mmd\":\"MmdAck\"}'\n",
      "REQ:  b'{\"command\": \"mmd move_to 220\"}'\n",
      "RESP:  b'{\"Mmd\":\"MmdAck\"}'\n",
      "REQ:  b'{\"command\": \"mmd pr_spd 142\"}'\n",
      "RESP:  b'{\"Mmd\":\"MmdAck\"}'\n",
      "REQ:  b'{\"command\": \"mmd move_to 240\"}'\n",
      "RESP:  b'{\"Mmd\":\"MmdAck\"}'\n",
      "REQ:  b'{\"command\": \"mmd pr_spd 150\"}'\n",
      "RESP:  b'{\"Mmd\":\"MmdAck\"}'\n",
      "REQ:  b'{\"command\": \"mmd move_to 260\"}'\n",
      "RESP:  b'{\"Mmd\":\"MmdAck\"}'\n",
      "REQ:  b'{\"command\": \"mmd pr_spd 158\"}'\n",
      "RESP:  b'{\"Mmd\":\"MmdAck\"}'\n",
      "REQ:  b'{\"command\": \"mmd move_to 280\"}'\n",
      "RESP:  b'{\"Mmd\":\"MmdAck\"}'\n",
      "REQ:  b'{\"command\": \"mmd pr_spd 168\"}'\n",
      "RESP:  b'{\"Mmd\":\"MmdAck\"}'\n",
      "REQ:  b'{\"command\": \"mmd move_to 300\"}'\n",
      "RESP:  b'{\"Mmd\":\"MmdAck\"}'\n",
      "REQ:  b'{\"command\": \"mmd pr_spd 180\"}'\n",
      "RESP:  b'{\"Mmd\":\"MmdAck\"}'\n",
      "REQ:  b'{\"command\": \"mmd move_to 320\"}'\n",
      "RESP:  b'{\"Mmd\":\"MmdAck\"}'\n",
      "REQ:  b'{\"command\": \"mmd pr_spd 192\"}'\n",
      "RESP:  b'{\"Mmd\":\"MmdAck\"}'\n",
      "REQ:  b'{\"command\": \"mmd move_to 340\"}'\n",
      "RESP:  b'{\"Mmd\":\"MmdAck\"}'\n",
      "REQ:  b'{\"command\": \"mmd pr_spd 207\"}'\n",
      "RESP:  b'{\"Mmd\":\"MmdAck\"}'\n",
      "REQ:  b'{\"command\": \"mmd move_to 360\"}'\n",
      "RESP:  b'{\"Mmd\":\"MmdAck\"}'\n",
      "REQ:  b'{\"command\": \"mmd pr_spd 225\"}'\n",
      "RESP:  b'{\"Mmd\":\"MmdAck\"}'\n",
      "REQ:  b'{\"command\": \"mmd move_to 380\"}'\n",
      "RESP:  b'{\"Mmd\":\"MmdAck\"}'\n",
      "REQ:  b'{\"command\": \"mmd pr_spd 245\"}'\n",
      "RESP:  b'{\"Mmd\":\"MmdAck\"}'\n",
      "REQ:  b'{\"command\": \"mmd move_to 400\"}'\n",
      "RESP:  b'{\"Mmd\":\"MmdAck\"}'\n",
      "REQ:  b'{\"command\": \"mmd pr_spd 270\"}'\n",
      "RESP:  b'{\"Mmd\":\"MmdAck\"}'\n",
      "REQ:  b'{\"command\": \"mmd move_to 420\"}'\n",
      "RESP:  b'{\"Mmd\":\"MmdAck\"}'\n",
      "REQ:  b'{\"command\": \"mmd pr_spd 300\"}'\n",
      "RESP:  b'{\"Mmd\":\"MmdAck\"}'\n",
      "REQ:  b'{\"command\": \"mmd move_to 440\"}'\n",
      "RESP:  b'{\"Mmd\":\"MmdAck\"}'\n",
      "REQ:  b'{\"command\": \"mmd pr_spd 337\"}'\n",
      "RESP:  b'{\"Mmd\":\"MmdAck\"}'\n",
      "REQ:  b'{\"command\": \"mmd move_to 460\"}'\n",
      "RESP:  b'{\"Mmd\":\"MmdAck\"}'\n",
      "REQ:  b'{\"command\": \"mmd pr_spd 385\"}'\n",
      "RESP:  b'{\"Mmd\":\"MmdAck\"}'\n",
      "REQ:  b'{\"command\": \"mmd move_to 480\"}'\n",
      "RESP:  b'{\"Mmd\":\"MmdAck\"}'\n",
      "REQ:  b'{\"command\": \"mmd pr_spd 450\"}'\n",
      "RESP:  b'{\"Mmd\":\"MmdAck\"}'\n",
      "REQ:  b'{\"command\": \"mmd move_to 500\"}'\n",
      "RESP:  b'{\"Mmd\":\"MmdAck\"}'\n",
      "REQ:  b'{\"command\": \"mmd pr_spd 540\"}'\n",
      "RESP:  b'{\"Mmd\":\"MmdAck\"}'\n",
      "REQ:  b'{\"command\": \"mmd belt_off\"}'\n",
      "RESP:  b'{\"Mmd\":\"MmdAck\"}'\n",
      "REQ:  b'{\"command\": \"mmd pp_off\"}'\n",
      "RESP:  b'{\"Mmd\":\"MmdAck\"}'\n",
      "REQ:  b'{\"command\": \"mmd pr_off\"}'\n",
      "RESP:  b'{\"Mmd\":\"MmdAck\"}'\n",
      "REQ:  b'{\"command\": \"mmd dispenser0_off\"}'\n",
      "RESP:  b'{\"Mmd\":\"MmdAck\"}'\n",
      "REQ:  b'{\"command\": \"mmd dispenser1_off\"}'\n",
      "RESP:  b'{\"Mmd\":\"MmdAck\"}'\n",
      "REQ:  b'{\"command\": \"mmd home\"}'\n",
      "RESP:  b'{\"Mmd\":\"MmdAck\"}'\n"
     ]
    },
    {
     "data": {
      "text/plain": [
       "{'Mmd': 'MmdAck'}"
      ]
     },
     "execution_count": 60,
     "metadata": {},
     "output_type": "execute_result"
    }
   ],
   "source": [
    "###############\n",
    "### test_wan\n",
    "###############\n",
    "\n",
    "START_POS = 120;\n",
    "END_POS = 510;\n",
    "CENTER_POS = 600;\n",
    "PR_START_SPD = 100;\n",
    "PR_END_SPD = 600;\n",
    "CONST_PRODUCT = (CENTER_POS - END_POS) * PR_END_SPD;\n",
    "STEPPED_SPD = 500;\n",
    "\n",
    "async def wait_for_stepper_available(s):\n",
    "    while True:\n",
    "        resp = send_command('mmd wait_idle', s)\n",
    "        if \"MmdUnavailable\" not in resp:\n",
    "            print(resp)\n",
    "            break\n",
    "        await asyncio.sleep(0.1)\n",
    "\n",
    "\n",
    "def internal_move_and_rotate(p, s):\n",
    "    w = CONST_PRODUCT // (600 - p)\n",
    "    send_command(f'mmd move_to {p}', s)\n",
    "    send_command(f'mmd pr_spd {w}', s)\n",
    "    wait_for_stepper_available(s)\n",
    "\n",
    "\n",
    "async def ketchup(s):\n",
    "    send_command(\"mmd pp_spd -300\", s);\n",
    "    \n",
    "    send_command(\"mmd dispenser0_spd -500\", s);\n",
    "    send_command(\"mmd dispenser1_on\", s);\n",
    "    send_command(\"mmd belt_on\", s);\n",
    "    \n",
    "    for p in range(START_POS, END_POS + 1, 20):\n",
    "        logging.debug(f'ketchup() {p}')\n",
    "        internal_move_and_rotate(p, s)\n",
    "        await asyncio.sleep(0.7)\n",
    "\n",
    "await ketchup(s)\n",
    "\n",
    "\n",
    "\n",
    "send_command(\"mmd belt_off\", s)\n",
    "send_command(\"mmd pp_off\", s)\n",
    "send_command(\"mmd pr_off\", s)\n",
    "send_command(\"mmd dispenser0_off\", s)\n",
    "send_command(\"mmd dispenser1_off\", s)\n",
    "send_command(\"mmd home\", s)\n"
   ]
  },
  {
   "cell_type": "code",
   "execution_count": null,
   "id": "40b88afc-1d32-4aea-a358-d7cd99189af8",
   "metadata": {},
   "outputs": [],
   "source": []
  },
  {
   "cell_type": "code",
   "execution_count": null,
   "id": "1665a37e-f170-4c28-916b-ecdc3d507ec6",
   "metadata": {},
   "outputs": [],
   "source": []
  }
 ],
 "metadata": {
  "kernelspec": {
   "display_name": "Python 3 (ipykernel)",
   "language": "python",
   "name": "python3"
  },
  "language_info": {
   "codemirror_mode": {
    "name": "ipython",
    "version": 3
   },
   "file_extension": ".py",
   "mimetype": "text/x-python",
   "name": "python",
   "nbconvert_exporter": "python",
   "pygments_lexer": "ipython3",
   "version": "3.10.8"
  }
 },
 "nbformat": 4,
 "nbformat_minor": 5
}
