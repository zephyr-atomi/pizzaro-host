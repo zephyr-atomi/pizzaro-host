{
 "cells": [
  {
   "cell_type": "code",
   "execution_count": 8,
   "id": "dea9e4f0-d67c-4e69-a00b-ed51e3bbd79a",
   "metadata": {},
   "outputs": [
    {
     "name": "stderr",
     "output_type": "stream",
     "text": [
      "[ WARN:0@448.701] global cap_v4l.cpp:997 open VIDEOIO(V4L2:/dev/video0): can't open camera by index\n",
      "[ERROR:0@448.702] global obsensor_uvc_stream_channel.cpp:159 getStreamChannelGroup Camera index out of range\n"
     ]
    }
   ],
   "source": [
    "import cv2\n",
    "import time\n",
    "import os\n",
    "\n",
    "# 设置保存图片的目录\n",
    "output_dir = 'captured_images'\n",
    "os.makedirs(output_dir, exist_ok=True)\n",
    "\n",
    "# 打开摄像头\n",
    "cap = cv2.VideoCapture(0)\n",
    "\n",
    "# 设置抓取图片的时间间隔(秒)\n",
    "capture_interval = 1\n",
    "\n",
    "# 记录上一次抓取图片的时间\n",
    "last_capture_time = time.time()\n",
    "\n",
    "# 图片编号计数器\n",
    "image_counter = 1\n",
    "\n",
    "while True:\n",
    "    if image_counter >= 10000:\n",
    "        break\n",
    "\n",
    "    # 读取一帧图像\n",
    "    ret, frame = cap.read()\n",
    "\n",
    "    if ret:\n",
    "        # 获取当前时间\n",
    "        current_time = time.time()\n",
    "\n",
    "        # 检查是否达到抓取图片的时间间隔\n",
    "        if current_time - last_capture_time >= capture_interval:\n",
    "            # 生成图片文件名\n",
    "            image_name = f'pizza01_{image_counter:04d}.jpg'\n",
    "            image_path = os.path.join(output_dir, image_name)\n",
    "\n",
    "            # 保存抓取的图片\n",
    "            cv2.imwrite(image_path, frame)\n",
    "\n",
    "            print(f'Captured image: {image_name}')\n",
    "\n",
    "            # 更新上一次抓取图片的时间\n",
    "            last_capture_time = current_time\n",
    "\n",
    "            # 增加图片编号计数器\n",
    "            image_counter += 1\n",
    "\n",
    "        # 显示当前帧\n",
    "        # cv2.imshow('USB Camera', frame)\n",
    "\n",
    "        # 按下'q'键退出循环\n",
    "        if cv2.waitKey(1) & 0xFF == ord('q'):\n",
    "            break\n",
    "    else:\n",
    "        break\n",
    "\n",
    "# 释放摄像头并关闭窗口\n",
    "cap.release()\n",
    "cv2.destroyAllWindows()"
   ]
  },
  {
   "cell_type": "code",
   "execution_count": null,
   "id": "970e308b-71fb-4702-b4f4-e69fd509cbe1",
   "metadata": {},
   "outputs": [],
   "source": []
  }
 ],
 "metadata": {
  "kernelspec": {
   "display_name": "Python 3 (ipykernel)",
   "language": "python",
   "name": "python3"
  },
  "language_info": {
   "codemirror_mode": {
    "name": "ipython",
    "version": 3
   },
   "file_extension": ".py",
   "mimetype": "text/x-python",
   "name": "python",
   "nbconvert_exporter": "python",
   "pygments_lexer": "ipython3",
   "version": "3.10.8"
  }
 },
 "nbformat": 4,
 "nbformat_minor": 5
}
