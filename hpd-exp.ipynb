{
 "cells": [
  {
   "cell_type": "code",
   "execution_count": 6,
   "id": "ed33172b-c855-4ff6-9dd8-8b45f71c4045",
   "metadata": {},
   "outputs": [],
   "source": [
    "from pizzaro.gateway import send_command, wait_for_linear_bull_available, system_reset\n",
    "import socket\n",
    "import logging\n",
    "import asyncio\n",
    "import threading\n",
    "import random\n",
    "import time\n",
    "\n",
    "s = socket.socket(socket.AF_INET, socket.SOCK_STREAM)\n",
    "s.connect((\"127.0.0.1\", 9999))"
   ]
  },
  {
   "cell_type": "code",
   "execution_count": 16,
   "id": "9775fd40-445a-4532-bfd2-ecd73787cb3b",
   "metadata": {},
   "outputs": [
    {
     "data": {
      "text/plain": [
       "<coroutine object system_reset at 0x7786ad8a1000>"
      ]
     },
     "execution_count": 16,
     "metadata": {},
     "output_type": "execute_result"
    }
   ],
   "source": [
    "system_reset(s)"
   ]
  },
  {
   "cell_type": "code",
   "execution_count": 7,
   "id": "ae7f6d05-c805-4035-8bca-94f30891e9f5",
   "metadata": {},
   "outputs": [
    {
     "name": "stdout",
     "output_type": "stream",
     "text": [
      "REQ:  b'{\"command\": \"hpd move_to 56800\"}'\n",
      "RESP:  b'{\"Hpd\":\"HpdAck\"}'\n",
      "REQ:  b'{\"command\": \"hpd wait_idle\"}'\n",
      "RESP:  b'{\"AtomiError\":\"HpdUnavailable\"}'\n",
      "REQ:  b'{\"command\": \"hpd wait_idle\"}'\n",
      "RESP:  b'{\"AtomiError\":\"HpdUnavailable\"}'\n",
      "REQ:  b'{\"command\": \"hpd wait_idle\"}'\n",
      "RESP:  b'{\"AtomiError\":\"HpdUnavailable\"}'\n",
      "REQ:  b'{\"command\": \"hpd wait_idle\"}'\n",
      "RESP:  b'{\"AtomiError\":\"HpdUnavailable\"}'\n",
      "REQ:  b'{\"command\": \"hpd wait_idle\"}'\n",
      "RESP:  b'{\"AtomiError\":\"HpdUnavailable\"}'\n",
      "REQ:  b'{\"command\": \"hpd wait_idle\"}'\n",
      "RESP:  b'{\"AtomiError\":\"HpdUnavailable\"}'\n",
      "REQ:  b'{\"command\": \"hpd wait_idle\"}'\n",
      "RESP:  b'{\"AtomiError\":\"HpdUnavailable\"}'\n",
      "REQ:  b'{\"command\": \"hpd wait_idle\"}'\n",
      "RESP:  b'{\"AtomiError\":\"HpdUnavailable\"}'\n",
      "REQ:  b'{\"command\": \"hpd wait_idle\"}'\n",
      "RESP:  b'{\"AtomiError\":\"HpdUnavailable\"}'\n",
      "REQ:  b'{\"command\": \"hpd wait_idle\"}'\n",
      "RESP:  b'{\"AtomiError\":\"HpdUnavailable\"}'\n",
      "REQ:  b'{\"command\": \"hpd wait_idle\"}'\n",
      "RESP:  b'{\"AtomiError\":\"HpdUnavailable\"}'\n",
      "REQ:  b'{\"command\": \"hpd wait_idle\"}'\n",
      "RESP:  b'{\"AtomiError\":\"HpdUnavailable\"}'\n",
      "REQ:  b'{\"command\": \"hpd wait_idle\"}'\n",
      "RESP:  b'{\"AtomiError\":\"HpdUnavailable\"}'\n",
      "REQ:  b'{\"command\": \"hpd wait_idle\"}'\n",
      "RESP:  b'{\"AtomiError\":\"HpdUnavailable\"}'\n",
      "REQ:  b'{\"command\": \"hpd wait_idle\"}'\n",
      "RESP:  b'{\"AtomiError\":\"HpdUnavailable\"}'\n",
      "REQ:  b'{\"command\": \"hpd wait_idle\"}'\n",
      "RESP:  b'{\"AtomiError\":\"HpdUnavailable\"}'\n",
      "REQ:  b'{\"command\": \"hpd wait_idle\"}'\n",
      "RESP:  b'{\"AtomiError\":\"HpdUnavailable\"}'\n",
      "REQ:  b'{\"command\": \"hpd wait_idle\"}'\n",
      "RESP:  b'{\"Hpd\":\"HpdAck\"}'\n",
      "b'{\"Hpd\":\"HpdAck\"}'\n",
      "REQ:  b'{\"command\": \"hpd move_to 50000\"}'\n",
      "RESP:  b'{\"Hpd\":\"HpdAck\"}'\n",
      "REQ:  b'{\"command\": \"hpd wait_idle\"}'\n",
      "RESP:  b'{\"AtomiError\":\"HpdUnavailable\"}'\n",
      "REQ:  b'{\"command\": \"hpd wait_idle\"}'\n",
      "RESP:  b'{\"AtomiError\":\"HpdUnavailable\"}'\n",
      "REQ:  b'{\"command\": \"hpd wait_idle\"}'\n",
      "RESP:  b'{\"AtomiError\":\"HpdUnavailable\"}'\n",
      "REQ:  b'{\"command\": \"hpd wait_idle\"}'\n",
      "RESP:  b'{\"Hpd\":\"HpdAck\"}'\n",
      "b'{\"Hpd\":\"HpdAck\"}'\n",
      "REQ:  b'{\"command\": \"hpd move_to 56800\"}'\n",
      "RESP:  b'{\"Hpd\":\"HpdAck\"}'\n",
      "REQ:  b'{\"command\": \"hpd wait_idle\"}'\n",
      "RESP:  b'{\"AtomiError\":\"HpdUnavailable\"}'\n",
      "REQ:  b'{\"command\": \"hpd wait_idle\"}'\n",
      "RESP:  b'{\"AtomiError\":\"HpdUnavailable\"}'\n",
      "REQ:  b'{\"command\": \"hpd wait_idle\"}'\n",
      "RESP:  b'{\"AtomiError\":\"HpdUnavailable\"}'\n",
      "REQ:  b'{\"command\": \"hpd wait_idle\"}'\n",
      "RESP:  b'{\"Hpd\":\"HpdAck\"}'\n",
      "b'{\"Hpd\":\"HpdAck\"}'\n",
      "REQ:  b'{\"command\": \"hpd move_to 30000\"}'\n",
      "RESP:  b'{\"Hpd\":\"HpdAck\"}'\n",
      "REQ:  b'{\"command\": \"hpd wait_idle\"}'\n",
      "RESP:  b'{\"AtomiError\":\"HpdUnavailable\"}'\n",
      "REQ:  b'{\"command\": \"hpd wait_idle\"}'\n",
      "RESP:  b'{\"AtomiError\":\"HpdUnavailable\"}'\n",
      "REQ:  b'{\"command\": \"hpd wait_idle\"}'\n",
      "RESP:  b'{\"AtomiError\":\"HpdUnavailable\"}'\n",
      "REQ:  b'{\"command\": \"hpd wait_idle\"}'\n",
      "RESP:  b'{\"AtomiError\":\"HpdUnavailable\"}'\n",
      "REQ:  b'{\"command\": \"hpd wait_idle\"}'\n",
      "RESP:  b'{\"AtomiError\":\"HpdUnavailable\"}'\n",
      "REQ:  b'{\"command\": \"hpd wait_idle\"}'\n",
      "RESP:  b'{\"AtomiError\":\"HpdUnavailable\"}'\n",
      "REQ:  b'{\"command\": \"hpd wait_idle\"}'\n",
      "RESP:  b'{\"AtomiError\":\"HpdUnavailable\"}'\n",
      "REQ:  b'{\"command\": \"hpd wait_idle\"}'\n",
      "RESP:  b'{\"AtomiError\":\"HpdUnavailable\"}'\n",
      "REQ:  b'{\"command\": \"hpd wait_idle\"}'\n",
      "RESP:  b'{\"AtomiError\":\"HpdUnavailable\"}'\n",
      "REQ:  b'{\"command\": \"hpd wait_idle\"}'\n",
      "RESP:  b'{\"Hpd\":\"HpdAck\"}'\n",
      "b'{\"Hpd\":\"HpdAck\"}'\n"
     ]
    }
   ],
   "source": [
    "async def make_pie(s):\n",
    "    send_command(f'hpd move_to 56800', s)\n",
    "    await wait_for_linear_bull_available(s)\n",
    "    # TODO(zephyr): report errors if the position isn't close to the target\n",
    "    # send_command(f'hpd get_pos', s)\n",
    "    await asyncio.sleep(7)\n",
    "    send_command(f'hpd move_to 50000', s)\n",
    "    await wait_for_linear_bull_available(s)\n",
    "    await asyncio.sleep(0.5)\n",
    "    send_command(f'hpd move_to 56800', s)\n",
    "    await wait_for_linear_bull_available(s)\n",
    "    await asyncio.sleep(7)\n",
    "    # send_command(f'hpd move_to 50000', s)\n",
    "    # await wait_for_linear_bull_available(s)\n",
    "    # await asyncio.sleep(0.5)\n",
    "    # send_command(f'hpd move_to 56800', s)\n",
    "    # await wait_for_linear_bull_available(s)\n",
    "    # await asyncio.sleep(7)\n",
    "\n",
    "    send_command(f'hpd move_to 30000', s)\n",
    "    await wait_for_linear_bull_available(s)\n",
    "    await asyncio.sleep(0.5)\n",
    "\n",
    "await make_pie(s)"
   ]
  },
  {
   "cell_type": "code",
   "execution_count": null,
   "id": "3ab8a367-bf20-47f8-b484-9ee8e6c7f261",
   "metadata": {},
   "outputs": [],
   "source": [
    "    send_command(f'hpd move_to 56800', s)\n",
    "    await wait_for_linear_bull_available(s)\n",
    "    await asyncio.sleep(3)\n",
    "    send_command(f'hpd move_to 50000', s)\n",
    "    await wait_for_linear_bull_available(s)\n",
    "    await asyncio.sleep(0.5)\n"
   ]
  }
 ],
 "metadata": {
  "kernelspec": {
   "display_name": "Python 3 (ipykernel)",
   "language": "python",
   "name": "python3"
  },
  "language_info": {
   "codemirror_mode": {
    "name": "ipython",
    "version": 3
   },
   "file_extension": ".py",
   "mimetype": "text/x-python",
   "name": "python",
   "nbconvert_exporter": "python",
   "pygments_lexer": "ipython3",
   "version": "3.10.8"
  }
 },
 "nbformat": 4,
 "nbformat_minor": 5
}
