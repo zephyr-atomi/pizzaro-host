{
 "cells": [
  {
   "cell_type": "code",
   "execution_count": 1,
   "id": "e9671f66-0765-4327-ae35-7905266490e1",
   "metadata": {},
   "outputs": [],
   "source": [
    "import socket\n",
    "from pizzaro.gateway import send_command\n",
    "s = socket.socket(socket.AF_INET, socket.SOCK_STREAM)\n",
    "s.connect((\"127.0.0.1\", 9999))"
   ]
  },
  {
   "cell_type": "code",
   "execution_count": null,
   "id": "29c1b683-1abd-46f3-8117-bad733df4ebd",
   "metadata": {},
   "outputs": [],
   "source": [
    "send_command(\"mmd belt_off\", s)"
   ]
  }
 ],
 "metadata": {
  "kernelspec": {
   "display_name": "Python 3 (ipykernel)",
   "language": "python",
   "name": "python3"
  },
  "language_info": {
   "codemirror_mode": {
    "name": "ipython",
    "version": 3
   },
   "file_extension": ".py",
   "mimetype": "text/x-python",
   "name": "python",
   "nbconvert_exporter": "python",
   "pygments_lexer": "ipython3",
   "version": "3.10.8"
  }
 },
 "nbformat": 4,
 "nbformat_minor": 5
}
